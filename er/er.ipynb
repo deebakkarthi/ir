{
 "cells": [
  {
   "cell_type": "code",
   "execution_count": 3,
   "metadata": {},
   "outputs": [],
   "source": [
    "import pandas as pd\n",
    "import numpy as np"
   ]
  },
  {
   "cell_type": "code",
   "execution_count": 67,
   "metadata": {},
   "outputs": [],
   "source": [
    "MY_GCUBE_TOKEN = '6c3fba9c-36a5-4a20-90d7-ea284f06fe01-843339462'"
   ]
  },
  {
   "cell_type": "code",
   "execution_count": 4,
   "metadata": {},
   "outputs": [],
   "source": [
    "df = pd.read_json(\"./ecir15.wiki-year-facts.json\")"
   ]
  },
  {
   "cell_type": "code",
   "execution_count": 5,
   "metadata": {},
   "outputs": [
    {
     "data": {
      "text/html": [
       "<div>\n",
       "<style scoped>\n",
       "    .dataframe tbody tr th:only-of-type {\n",
       "        vertical-align: middle;\n",
       "    }\n",
       "\n",
       "    .dataframe tbody tr th {\n",
       "        vertical-align: top;\n",
       "    }\n",
       "\n",
       "    .dataframe thead th {\n",
       "        text-align: right;\n",
       "    }\n",
       "</style>\n",
       "<table border=\"1\" class=\"dataframe\">\n",
       "  <thead>\n",
       "    <tr style=\"text-align: right;\">\n",
       "      <th></th>\n",
       "      <th>data</th>\n",
       "    </tr>\n",
       "  </thead>\n",
       "  <tbody>\n",
       "    <tr>\n",
       "      <th>0</th>\n",
       "      <td>{'fact': 'Roman Empire. &lt;a href=\"https://en.wi...</td>\n",
       "    </tr>\n",
       "    <tr>\n",
       "      <th>1</th>\n",
       "      <td>{'fact': 'Roman Empire. End of the war with &lt;a...</td>\n",
       "    </tr>\n",
       "    <tr>\n",
       "      <th>2</th>\n",
       "      <td>{'fact': 'Asia. &lt;a href=\"https://en.wikipedia....</td>\n",
       "    </tr>\n",
       "    <tr>\n",
       "      <th>3</th>\n",
       "      <td>{'fact': 'Religion. &lt;a href=\"https://en.wikipe...</td>\n",
       "    </tr>\n",
       "    <tr>\n",
       "      <th>4</th>\n",
       "      <td>{'fact': 'Byzantine Empire. Emperor &lt;a href=\"h...</td>\n",
       "    </tr>\n",
       "  </tbody>\n",
       "</table>\n",
       "</div>"
      ],
      "text/plain": [
       "                                                data\n",
       "0  {'fact': 'Roman Empire. <a href=\"https://en.wi...\n",
       "1  {'fact': 'Roman Empire. End of the war with <a...\n",
       "2  {'fact': 'Asia. <a href=\"https://en.wikipedia....\n",
       "3  {'fact': 'Religion. <a href=\"https://en.wikipe...\n",
       "4  {'fact': 'Byzantine Empire. Emperor <a href=\"h..."
      ]
     },
     "execution_count": 5,
     "metadata": {},
     "output_type": "execute_result"
    }
   ],
   "source": [
    "df.head()"
   ]
  },
  {
   "cell_type": "code",
   "execution_count": 6,
   "metadata": {},
   "outputs": [
    {
     "data": {
      "text/plain": [
       "(40356, 1)"
      ]
     },
     "execution_count": 6,
     "metadata": {},
     "output_type": "execute_result"
    }
   ],
   "source": [
    "df.shape"
   ]
  },
  {
   "cell_type": "code",
   "execution_count": 7,
   "metadata": {},
   "outputs": [
    {
     "data": {
      "text/plain": [
       "array([{'fact': 'Roman Empire. <a href=\"https://en.wikipedia.org/wiki/Dacia\">Dacia</a> is invaded by barbarians.', 'year': '166'},\n",
       "       {'fact': 'Roman Empire. End of the war with <a href=\"https://en.wikipedia.org/wiki/Parthia\">Parthia</a>:  The Parthians leave <a href=\"https://en.wikipedia.org/wiki/Armenia\">Armenia</a> and eastern <a href=\"https://en.wikipedia.org/wiki/Mesopotamia\">Mesopotamia</a>, which both become Roman <a href=\"https://en.wikipedia.org/wiki/protectorate\">protectorate</a>s.', 'year': '166'},\n",
       "       {'fact': 'Asia. <a href=\"https://en.wikipedia.org/wiki/King_Chogo_of_Baekje\">King Chogo of Baekje</a> succeeds to the throne of <a href=\"https://en.wikipedia.org/wiki/Baekje\">Baekje</a> in the <a href=\"https://en.wikipedia.org/wiki/Korean_peninsula\">Korean peninsula</a>.', 'year': '166'},\n",
       "       ...,\n",
       "       {'fact': 'December - Financed by <a href=\"https://en.wikipedia.org/wiki/Charles_V_of_France\">Charles V of France</a>, Welshman <a href=\"https://en.wikipedia.org/wiki/Owain_Lawgoch\">Owain Lawgoch</a> launches an invasion fleet against the English in an attempt to claim the throne of <a href=\"https://en.wikipedia.org/wiki/Wales\">Wales</a>. A storm causes Owain to abandon the invasion.', 'year': '1369'},\n",
       "       {'fact': '<a href=\"https://en.wikipedia.org/wiki/Tamerlane\">Tamerlane</a> names the city of <a href=\"https://en.wikipedia.org/wiki/Samarkand\">Samarkand</a> as the capital of his empire.', 'year': '1369'},\n",
       "       {'fact': 'The <a href=\"https://en.wikipedia.org/wiki/Thailand\">Thai</a> Kingdom of <a href=\"https://en.wikipedia.org/wiki/Ayutthaya_Kingdom\">Ayutthaya</a> conquers <a href=\"https://en.wikipedia.org/wiki/Cambodia\">Cambodia</a> for a second time.', 'year': '1369'}],\n",
       "      dtype=object)"
      ]
     },
     "execution_count": 7,
     "metadata": {},
     "output_type": "execute_result"
    }
   ],
   "source": [
    "df.values.flatten()"
   ]
  },
  {
   "cell_type": "code",
   "execution_count": 8,
   "metadata": {},
   "outputs": [],
   "source": [
    "df = df.values.flatten()"
   ]
  },
  {
   "cell_type": "code",
   "execution_count": 9,
   "metadata": {},
   "outputs": [
    {
     "data": {
      "text/plain": [
       "array([{'fact': 'Roman Empire. <a href=\"https://en.wikipedia.org/wiki/Dacia\">Dacia</a> is invaded by barbarians.', 'year': '166'},\n",
       "       {'fact': 'Roman Empire. End of the war with <a href=\"https://en.wikipedia.org/wiki/Parthia\">Parthia</a>:  The Parthians leave <a href=\"https://en.wikipedia.org/wiki/Armenia\">Armenia</a> and eastern <a href=\"https://en.wikipedia.org/wiki/Mesopotamia\">Mesopotamia</a>, which both become Roman <a href=\"https://en.wikipedia.org/wiki/protectorate\">protectorate</a>s.', 'year': '166'},\n",
       "       {'fact': 'Asia. <a href=\"https://en.wikipedia.org/wiki/King_Chogo_of_Baekje\">King Chogo of Baekje</a> succeeds to the throne of <a href=\"https://en.wikipedia.org/wiki/Baekje\">Baekje</a> in the <a href=\"https://en.wikipedia.org/wiki/Korean_peninsula\">Korean peninsula</a>.', 'year': '166'},\n",
       "       ...,\n",
       "       {'fact': 'December - Financed by <a href=\"https://en.wikipedia.org/wiki/Charles_V_of_France\">Charles V of France</a>, Welshman <a href=\"https://en.wikipedia.org/wiki/Owain_Lawgoch\">Owain Lawgoch</a> launches an invasion fleet against the English in an attempt to claim the throne of <a href=\"https://en.wikipedia.org/wiki/Wales\">Wales</a>. A storm causes Owain to abandon the invasion.', 'year': '1369'},\n",
       "       {'fact': '<a href=\"https://en.wikipedia.org/wiki/Tamerlane\">Tamerlane</a> names the city of <a href=\"https://en.wikipedia.org/wiki/Samarkand\">Samarkand</a> as the capital of his empire.', 'year': '1369'},\n",
       "       {'fact': 'The <a href=\"https://en.wikipedia.org/wiki/Thailand\">Thai</a> Kingdom of <a href=\"https://en.wikipedia.org/wiki/Ayutthaya_Kingdom\">Ayutthaya</a> conquers <a href=\"https://en.wikipedia.org/wiki/Cambodia\">Cambodia</a> for a second time.', 'year': '1369'}],\n",
       "      dtype=object)"
      ]
     },
     "execution_count": 9,
     "metadata": {},
     "output_type": "execute_result"
    }
   ],
   "source": [
    "df"
   ]
  },
  {
   "cell_type": "code",
   "execution_count": 10,
   "metadata": {},
   "outputs": [
    {
     "data": {
      "text/plain": [
       "numpy.ndarray"
      ]
     },
     "execution_count": 10,
     "metadata": {},
     "output_type": "execute_result"
    }
   ],
   "source": [
    "type(df)"
   ]
  },
  {
   "cell_type": "code",
   "execution_count": 11,
   "metadata": {},
   "outputs": [],
   "source": [
    "df = df.tolist()"
   ]
  },
  {
   "cell_type": "code",
   "execution_count": 12,
   "metadata": {},
   "outputs": [],
   "source": [
    "df = pd.DataFrame(df)"
   ]
  },
  {
   "cell_type": "code",
   "execution_count": 13,
   "metadata": {},
   "outputs": [
    {
     "data": {
      "text/html": [
       "<div>\n",
       "<style scoped>\n",
       "    .dataframe tbody tr th:only-of-type {\n",
       "        vertical-align: middle;\n",
       "    }\n",
       "\n",
       "    .dataframe tbody tr th {\n",
       "        vertical-align: top;\n",
       "    }\n",
       "\n",
       "    .dataframe thead th {\n",
       "        text-align: right;\n",
       "    }\n",
       "</style>\n",
       "<table border=\"1\" class=\"dataframe\">\n",
       "  <thead>\n",
       "    <tr style=\"text-align: right;\">\n",
       "      <th></th>\n",
       "      <th>fact</th>\n",
       "      <th>year</th>\n",
       "    </tr>\n",
       "  </thead>\n",
       "  <tbody>\n",
       "    <tr>\n",
       "      <th>0</th>\n",
       "      <td>Roman Empire. &lt;a href=\"https://en.wikipedia.or...</td>\n",
       "      <td>166</td>\n",
       "    </tr>\n",
       "    <tr>\n",
       "      <th>1</th>\n",
       "      <td>Roman Empire. End of the war with &lt;a href=\"htt...</td>\n",
       "      <td>166</td>\n",
       "    </tr>\n",
       "    <tr>\n",
       "      <th>2</th>\n",
       "      <td>Asia. &lt;a href=\"https://en.wikipedia.org/wiki/K...</td>\n",
       "      <td>166</td>\n",
       "    </tr>\n",
       "    <tr>\n",
       "      <th>3</th>\n",
       "      <td>Religion. &lt;a href=\"https://en.wikipedia.org/wi...</td>\n",
       "      <td>166</td>\n",
       "    </tr>\n",
       "    <tr>\n",
       "      <th>4</th>\n",
       "      <td>Byzantine Empire. Emperor &lt;a href=\"https://en....</td>\n",
       "      <td>592</td>\n",
       "    </tr>\n",
       "  </tbody>\n",
       "</table>\n",
       "</div>"
      ],
      "text/plain": [
       "                                                fact year\n",
       "0  Roman Empire. <a href=\"https://en.wikipedia.or...  166\n",
       "1  Roman Empire. End of the war with <a href=\"htt...  166\n",
       "2  Asia. <a href=\"https://en.wikipedia.org/wiki/K...  166\n",
       "3  Religion. <a href=\"https://en.wikipedia.org/wi...  166\n",
       "4  Byzantine Empire. Emperor <a href=\"https://en....  592"
      ]
     },
     "execution_count": 13,
     "metadata": {},
     "output_type": "execute_result"
    }
   ],
   "source": [
    "df.head()"
   ]
  },
  {
   "cell_type": "code",
   "execution_count": 14,
   "metadata": {},
   "outputs": [
    {
     "name": "stdout",
     "output_type": "stream",
     "text": [
      "<class 'pandas.core.frame.DataFrame'>\n",
      "RangeIndex: 40356 entries, 0 to 40355\n",
      "Data columns (total 2 columns):\n",
      " #   Column  Non-Null Count  Dtype \n",
      "---  ------  --------------  ----- \n",
      " 0   fact    40356 non-null  object\n",
      " 1   year    40356 non-null  object\n",
      "dtypes: object(2)\n",
      "memory usage: 630.7+ KB\n"
     ]
    }
   ],
   "source": [
    "df.info()"
   ]
  },
  {
   "cell_type": "code",
   "execution_count": 15,
   "metadata": {},
   "outputs": [],
   "source": [
    "df.drop(columns=[\"year\"], inplace=True)"
   ]
  },
  {
   "cell_type": "code",
   "execution_count": 16,
   "metadata": {},
   "outputs": [
    {
     "data": {
      "text/html": [
       "<div>\n",
       "<style scoped>\n",
       "    .dataframe tbody tr th:only-of-type {\n",
       "        vertical-align: middle;\n",
       "    }\n",
       "\n",
       "    .dataframe tbody tr th {\n",
       "        vertical-align: top;\n",
       "    }\n",
       "\n",
       "    .dataframe thead th {\n",
       "        text-align: right;\n",
       "    }\n",
       "</style>\n",
       "<table border=\"1\" class=\"dataframe\">\n",
       "  <thead>\n",
       "    <tr style=\"text-align: right;\">\n",
       "      <th></th>\n",
       "      <th>fact</th>\n",
       "    </tr>\n",
       "  </thead>\n",
       "  <tbody>\n",
       "    <tr>\n",
       "      <th>0</th>\n",
       "      <td>Roman Empire. &lt;a href=\"https://en.wikipedia.or...</td>\n",
       "    </tr>\n",
       "    <tr>\n",
       "      <th>1</th>\n",
       "      <td>Roman Empire. End of the war with &lt;a href=\"htt...</td>\n",
       "    </tr>\n",
       "    <tr>\n",
       "      <th>2</th>\n",
       "      <td>Asia. &lt;a href=\"https://en.wikipedia.org/wiki/K...</td>\n",
       "    </tr>\n",
       "    <tr>\n",
       "      <th>3</th>\n",
       "      <td>Religion. &lt;a href=\"https://en.wikipedia.org/wi...</td>\n",
       "    </tr>\n",
       "    <tr>\n",
       "      <th>4</th>\n",
       "      <td>Byzantine Empire. Emperor &lt;a href=\"https://en....</td>\n",
       "    </tr>\n",
       "  </tbody>\n",
       "</table>\n",
       "</div>"
      ],
      "text/plain": [
       "                                                fact\n",
       "0  Roman Empire. <a href=\"https://en.wikipedia.or...\n",
       "1  Roman Empire. End of the war with <a href=\"htt...\n",
       "2  Asia. <a href=\"https://en.wikipedia.org/wiki/K...\n",
       "3  Religion. <a href=\"https://en.wikipedia.org/wi...\n",
       "4  Byzantine Empire. Emperor <a href=\"https://en...."
      ]
     },
     "execution_count": 16,
     "metadata": {},
     "output_type": "execute_result"
    }
   ],
   "source": [
    "df.head()"
   ]
  },
  {
   "cell_type": "code",
   "execution_count": 17,
   "metadata": {},
   "outputs": [],
   "source": [
    "text = df.iloc[0, 0]"
   ]
  },
  {
   "cell_type": "code",
   "execution_count": 18,
   "metadata": {},
   "outputs": [
    {
     "name": "stdout",
     "output_type": "stream",
     "text": [
      "Roman Empire. <a href=\"https://en.wikipedia.org/wiki/Dacia\">Dacia</a> is invaded by barbarians.\n"
     ]
    }
   ],
   "source": [
    "print(text)"
   ]
  },
  {
   "cell_type": "code",
   "execution_count": 19,
   "metadata": {},
   "outputs": [],
   "source": [
    "from bs4 import BeautifulSoup"
   ]
  },
  {
   "cell_type": "code",
   "execution_count": 28,
   "metadata": {},
   "outputs": [],
   "source": [
    "soup = BeautifulSoup(text, \"html.parser\")"
   ]
  },
  {
   "cell_type": "code",
   "execution_count": 21,
   "metadata": {},
   "outputs": [],
   "source": [
    "tag = soup.findAll()[0]"
   ]
  },
  {
   "cell_type": "code",
   "execution_count": 22,
   "metadata": {},
   "outputs": [
    {
     "data": {
      "text/plain": [
       "<a href=\"https://en.wikipedia.org/wiki/Dacia\">Dacia</a>"
      ]
     },
     "execution_count": 22,
     "metadata": {},
     "output_type": "execute_result"
    }
   ],
   "source": [
    "tag"
   ]
  },
  {
   "cell_type": "code",
   "execution_count": 23,
   "metadata": {},
   "outputs": [
    {
     "data": {
      "text/plain": [
       "'Roman Empire. <a href=\"https://en.wikipedia.org/wiki/Dacia\">Dacia</a> is invaded by barbarians.'"
      ]
     },
     "execution_count": 23,
     "metadata": {},
     "output_type": "execute_result"
    }
   ],
   "source": [
    "text"
   ]
  },
  {
   "cell_type": "code",
   "execution_count": 24,
   "metadata": {},
   "outputs": [
    {
     "data": {
      "text/plain": [
       "'Roman Empire. Dacia is invaded by barbarians.'"
      ]
     },
     "execution_count": 24,
     "metadata": {},
     "output_type": "execute_result"
    }
   ],
   "source": [
    "text.replace(str(tag), tag.string)"
   ]
  },
  {
   "cell_type": "code",
   "execution_count": 26,
   "metadata": {},
   "outputs": [],
   "source": [
    "text = df.iloc[1, 0]"
   ]
  },
  {
   "cell_type": "code",
   "execution_count": 27,
   "metadata": {},
   "outputs": [
    {
     "data": {
      "text/plain": [
       "'Roman Empire. End of the war with <a href=\"https://en.wikipedia.org/wiki/Parthia\">Parthia</a>:  The Parthians leave <a href=\"https://en.wikipedia.org/wiki/Armenia\">Armenia</a> and eastern <a href=\"https://en.wikipedia.org/wiki/Mesopotamia\">Mesopotamia</a>, which both become Roman <a href=\"https://en.wikipedia.org/wiki/protectorate\">protectorate</a>s.'"
      ]
     },
     "execution_count": 27,
     "metadata": {},
     "output_type": "execute_result"
    }
   ],
   "source": [
    "text"
   ]
  },
  {
   "cell_type": "code",
   "execution_count": 29,
   "metadata": {},
   "outputs": [],
   "source": [
    "tmp = text\n",
    "for tag in soup.findAll():\n",
    "    tmp = tmp.replace(str(tag), tag.string)"
   ]
  },
  {
   "cell_type": "code",
   "execution_count": 30,
   "metadata": {},
   "outputs": [
    {
     "data": {
      "text/plain": [
       "'Roman Empire. End of the war with Parthia:  The Parthians leave Armenia and eastern Mesopotamia, which both become Roman protectorates.'"
      ]
     },
     "execution_count": 30,
     "metadata": {},
     "output_type": "execute_result"
    }
   ],
   "source": [
    "tmp"
   ]
  },
  {
   "cell_type": "code",
   "execution_count": 44,
   "metadata": {},
   "outputs": [],
   "source": [
    "def extract_text(text):\n",
    "    soup = BeautifulSoup(text, \"html.parser\")\n",
    "    tmp = text\n",
    "    for tag in soup.findAll():\n",
    "        if tag.name == \"a\":\n",
    "            if tag.string:\n",
    "                tmp = tmp.replace(str(tag), tag.string)\n",
    "        else:\n",
    "            tmp = tmp.replace(str(tag), \"\")\n",
    "    return tmp"
   ]
  },
  {
   "cell_type": "code",
   "execution_count": 45,
   "metadata": {},
   "outputs": [
    {
     "name": "stderr",
     "output_type": "stream",
     "text": [
      "/var/folders/z9/204byscd3zd4t17t3b7r171m0000gn/T/ipykernel_8025/139763669.py:2: MarkupResemblesLocatorWarning: The input looks more like a filename than markup. You may want to open this file and pass the filehandle into Beautiful Soup.\n",
      "  soup = BeautifulSoup(text, \"html.parser\")\n"
     ]
    }
   ],
   "source": [
    "df[\"text\"] = df[\"fact\"].apply(extract_text)"
   ]
  },
  {
   "cell_type": "code",
   "execution_count": 46,
   "metadata": {},
   "outputs": [
    {
     "data": {
      "text/html": [
       "<div>\n",
       "<style scoped>\n",
       "    .dataframe tbody tr th:only-of-type {\n",
       "        vertical-align: middle;\n",
       "    }\n",
       "\n",
       "    .dataframe tbody tr th {\n",
       "        vertical-align: top;\n",
       "    }\n",
       "\n",
       "    .dataframe thead th {\n",
       "        text-align: right;\n",
       "    }\n",
       "</style>\n",
       "<table border=\"1\" class=\"dataframe\">\n",
       "  <thead>\n",
       "    <tr style=\"text-align: right;\">\n",
       "      <th></th>\n",
       "      <th>fact</th>\n",
       "      <th>text</th>\n",
       "    </tr>\n",
       "  </thead>\n",
       "  <tbody>\n",
       "    <tr>\n",
       "      <th>0</th>\n",
       "      <td>Roman Empire. &lt;a href=\"https://en.wikipedia.or...</td>\n",
       "      <td>Roman Empire. Dacia is invaded by barbarians.</td>\n",
       "    </tr>\n",
       "    <tr>\n",
       "      <th>1</th>\n",
       "      <td>Roman Empire. End of the war with &lt;a href=\"htt...</td>\n",
       "      <td>Roman Empire. End of the war with Parthia:  Th...</td>\n",
       "    </tr>\n",
       "    <tr>\n",
       "      <th>2</th>\n",
       "      <td>Asia. &lt;a href=\"https://en.wikipedia.org/wiki/K...</td>\n",
       "      <td>Asia. King Chogo of Baekje succeeds to the thr...</td>\n",
       "    </tr>\n",
       "    <tr>\n",
       "      <th>3</th>\n",
       "      <td>Religion. &lt;a href=\"https://en.wikipedia.org/wi...</td>\n",
       "      <td>Religion. Pope Soter succeeds Pope Anicetus as...</td>\n",
       "    </tr>\n",
       "    <tr>\n",
       "      <th>4</th>\n",
       "      <td>Byzantine Empire. Emperor &lt;a href=\"https://en....</td>\n",
       "      <td>Byzantine Empire. Emperor Maurice regains the ...</td>\n",
       "    </tr>\n",
       "  </tbody>\n",
       "</table>\n",
       "</div>"
      ],
      "text/plain": [
       "                                                fact  \\\n",
       "0  Roman Empire. <a href=\"https://en.wikipedia.or...   \n",
       "1  Roman Empire. End of the war with <a href=\"htt...   \n",
       "2  Asia. <a href=\"https://en.wikipedia.org/wiki/K...   \n",
       "3  Religion. <a href=\"https://en.wikipedia.org/wi...   \n",
       "4  Byzantine Empire. Emperor <a href=\"https://en....   \n",
       "\n",
       "                                                text  \n",
       "0      Roman Empire. Dacia is invaded by barbarians.  \n",
       "1  Roman Empire. End of the war with Parthia:  Th...  \n",
       "2  Asia. King Chogo of Baekje succeeds to the thr...  \n",
       "3  Religion. Pope Soter succeeds Pope Anicetus as...  \n",
       "4  Byzantine Empire. Emperor Maurice regains the ...  "
      ]
     },
     "execution_count": 46,
     "metadata": {},
     "output_type": "execute_result"
    }
   ],
   "source": [
    "df.head()"
   ]
  },
  {
   "cell_type": "code",
   "execution_count": 47,
   "metadata": {},
   "outputs": [
    {
     "data": {
      "text/html": [
       "<div>\n",
       "<style scoped>\n",
       "    .dataframe tbody tr th:only-of-type {\n",
       "        vertical-align: middle;\n",
       "    }\n",
       "\n",
       "    .dataframe tbody tr th {\n",
       "        vertical-align: top;\n",
       "    }\n",
       "\n",
       "    .dataframe thead th {\n",
       "        text-align: right;\n",
       "    }\n",
       "</style>\n",
       "<table border=\"1\" class=\"dataframe\">\n",
       "  <thead>\n",
       "    <tr style=\"text-align: right;\">\n",
       "      <th></th>\n",
       "      <th>fact</th>\n",
       "      <th>text</th>\n",
       "    </tr>\n",
       "  </thead>\n",
       "  <tbody>\n",
       "    <tr>\n",
       "      <th>40351</th>\n",
       "      <td>&lt;a href=\"https://en.wikipedia.org/wiki/Moscow\"...</td>\n",
       "      <td>Moscow attacks Tver, which counter-attacks wit...</td>\n",
       "    </tr>\n",
       "    <tr>\n",
       "      <th>40352</th>\n",
       "      <td>The &lt;a href=\"https://en.wikipedia.org/wiki/Bib...</td>\n",
       "      <td>The Bibliothèque nationale de France (National...</td>\n",
       "    </tr>\n",
       "    <tr>\n",
       "      <th>40353</th>\n",
       "      <td>December - Financed by &lt;a href=\"https://en.wik...</td>\n",
       "      <td>December - Financed by Charles V of France, We...</td>\n",
       "    </tr>\n",
       "    <tr>\n",
       "      <th>40354</th>\n",
       "      <td>&lt;a href=\"https://en.wikipedia.org/wiki/Tamerla...</td>\n",
       "      <td>Tamerlane names the city of Samarkand as the c...</td>\n",
       "    </tr>\n",
       "    <tr>\n",
       "      <th>40355</th>\n",
       "      <td>The &lt;a href=\"https://en.wikipedia.org/wiki/Tha...</td>\n",
       "      <td>The Thai Kingdom of Ayutthaya conquers Cambodi...</td>\n",
       "    </tr>\n",
       "  </tbody>\n",
       "</table>\n",
       "</div>"
      ],
      "text/plain": [
       "                                                    fact  \\\n",
       "40351  <a href=\"https://en.wikipedia.org/wiki/Moscow\"...   \n",
       "40352  The <a href=\"https://en.wikipedia.org/wiki/Bib...   \n",
       "40353  December - Financed by <a href=\"https://en.wik...   \n",
       "40354  <a href=\"https://en.wikipedia.org/wiki/Tamerla...   \n",
       "40355  The <a href=\"https://en.wikipedia.org/wiki/Tha...   \n",
       "\n",
       "                                                    text  \n",
       "40351  Moscow attacks Tver, which counter-attacks wit...  \n",
       "40352  The Bibliothèque nationale de France (National...  \n",
       "40353  December - Financed by Charles V of France, We...  \n",
       "40354  Tamerlane names the city of Samarkand as the c...  \n",
       "40355  The Thai Kingdom of Ayutthaya conquers Cambodi...  "
      ]
     },
     "execution_count": 47,
     "metadata": {},
     "output_type": "execute_result"
    }
   ],
   "source": [
    "df.tail()"
   ]
  },
  {
   "cell_type": "code",
   "execution_count": 56,
   "metadata": {},
   "outputs": [],
   "source": [
    "from urllib.parse import urlparse\n"
   ]
  },
  {
   "cell_type": "code",
   "execution_count": 57,
   "metadata": {},
   "outputs": [],
   "source": [
    "def extract_entity(text):\n",
    "    soup = BeautifulSoup(text, \"html.parser\")\n",
    "    ret = []\n",
    "    for tag in soup.findAll():\n",
    "        if tag.name == \"a\":\n",
    "            tmp = tag.get(\"href\")\n",
    "            if tmp:\n",
    "                tmp = urlparse(tmp)\n",
    "                tmp = tmp.path.split('/')[-1]\n",
    "                ret.append(tmp)\n",
    "    return ret"
   ]
  },
  {
   "cell_type": "code",
   "execution_count": 58,
   "metadata": {},
   "outputs": [
    {
     "data": {
      "text/plain": [
       "['Achilleus_(emperor)',\n",
       " 'Alexandria',\n",
       " 'Egypt_(Roman_province)',\n",
       " 'rebellion',\n",
       " 'Diocletian']"
      ]
     },
     "execution_count": 58,
     "metadata": {},
     "output_type": "execute_result"
    }
   ],
   "source": [
    "extract_entity(df.iloc[69, 0])"
   ]
  },
  {
   "cell_type": "code",
   "execution_count": 60,
   "metadata": {},
   "outputs": [
    {
     "name": "stderr",
     "output_type": "stream",
     "text": [
      "/var/folders/z9/204byscd3zd4t17t3b7r171m0000gn/T/ipykernel_8025/2195321229.py:2: MarkupResemblesLocatorWarning: The input looks more like a filename than markup. You may want to open this file and pass the filehandle into Beautiful Soup.\n",
      "  soup = BeautifulSoup(text, \"html.parser\")\n"
     ]
    }
   ],
   "source": [
    "df[\"entity\"] = df[\"fact\"].apply(extract_entity)"
   ]
  },
  {
   "cell_type": "code",
   "execution_count": 61,
   "metadata": {},
   "outputs": [
    {
     "data": {
      "text/html": [
       "<div>\n",
       "<style scoped>\n",
       "    .dataframe tbody tr th:only-of-type {\n",
       "        vertical-align: middle;\n",
       "    }\n",
       "\n",
       "    .dataframe tbody tr th {\n",
       "        vertical-align: top;\n",
       "    }\n",
       "\n",
       "    .dataframe thead th {\n",
       "        text-align: right;\n",
       "    }\n",
       "</style>\n",
       "<table border=\"1\" class=\"dataframe\">\n",
       "  <thead>\n",
       "    <tr style=\"text-align: right;\">\n",
       "      <th></th>\n",
       "      <th>fact</th>\n",
       "      <th>text</th>\n",
       "      <th>entity</th>\n",
       "    </tr>\n",
       "  </thead>\n",
       "  <tbody>\n",
       "    <tr>\n",
       "      <th>0</th>\n",
       "      <td>Roman Empire. &lt;a href=\"https://en.wikipedia.or...</td>\n",
       "      <td>Roman Empire. Dacia is invaded by barbarians.</td>\n",
       "      <td>[Dacia]</td>\n",
       "    </tr>\n",
       "    <tr>\n",
       "      <th>1</th>\n",
       "      <td>Roman Empire. End of the war with &lt;a href=\"htt...</td>\n",
       "      <td>Roman Empire. End of the war with Parthia:  Th...</td>\n",
       "      <td>[Parthia, Armenia, Mesopotamia, protectorate]</td>\n",
       "    </tr>\n",
       "    <tr>\n",
       "      <th>2</th>\n",
       "      <td>Asia. &lt;a href=\"https://en.wikipedia.org/wiki/K...</td>\n",
       "      <td>Asia. King Chogo of Baekje succeeds to the thr...</td>\n",
       "      <td>[King_Chogo_of_Baekje, Baekje, Korean_peninsula]</td>\n",
       "    </tr>\n",
       "    <tr>\n",
       "      <th>3</th>\n",
       "      <td>Religion. &lt;a href=\"https://en.wikipedia.org/wi...</td>\n",
       "      <td>Religion. Pope Soter succeeds Pope Anicetus as...</td>\n",
       "      <td>[Pope_Soter, Pope_Anicetus, pope]</td>\n",
       "    </tr>\n",
       "    <tr>\n",
       "      <th>4</th>\n",
       "      <td>Byzantine Empire. Emperor &lt;a href=\"https://en....</td>\n",
       "      <td>Byzantine Empire. Emperor Maurice regains the ...</td>\n",
       "      <td>[Maurice_(emperor), Byzantine_Empire, Singidun...</td>\n",
       "    </tr>\n",
       "  </tbody>\n",
       "</table>\n",
       "</div>"
      ],
      "text/plain": [
       "                                                fact  \\\n",
       "0  Roman Empire. <a href=\"https://en.wikipedia.or...   \n",
       "1  Roman Empire. End of the war with <a href=\"htt...   \n",
       "2  Asia. <a href=\"https://en.wikipedia.org/wiki/K...   \n",
       "3  Religion. <a href=\"https://en.wikipedia.org/wi...   \n",
       "4  Byzantine Empire. Emperor <a href=\"https://en....   \n",
       "\n",
       "                                                text  \\\n",
       "0      Roman Empire. Dacia is invaded by barbarians.   \n",
       "1  Roman Empire. End of the war with Parthia:  Th...   \n",
       "2  Asia. King Chogo of Baekje succeeds to the thr...   \n",
       "3  Religion. Pope Soter succeeds Pope Anicetus as...   \n",
       "4  Byzantine Empire. Emperor Maurice regains the ...   \n",
       "\n",
       "                                              entity  \n",
       "0                                            [Dacia]  \n",
       "1      [Parthia, Armenia, Mesopotamia, protectorate]  \n",
       "2   [King_Chogo_of_Baekje, Baekje, Korean_peninsula]  \n",
       "3                  [Pope_Soter, Pope_Anicetus, pope]  \n",
       "4  [Maurice_(emperor), Byzantine_Empire, Singidun...  "
      ]
     },
     "execution_count": 61,
     "metadata": {},
     "output_type": "execute_result"
    }
   ],
   "source": [
    "df.head()"
   ]
  },
  {
   "cell_type": "code",
   "execution_count": 62,
   "metadata": {},
   "outputs": [
    {
     "data": {
      "text/html": [
       "<div>\n",
       "<style scoped>\n",
       "    .dataframe tbody tr th:only-of-type {\n",
       "        vertical-align: middle;\n",
       "    }\n",
       "\n",
       "    .dataframe tbody tr th {\n",
       "        vertical-align: top;\n",
       "    }\n",
       "\n",
       "    .dataframe thead th {\n",
       "        text-align: right;\n",
       "    }\n",
       "</style>\n",
       "<table border=\"1\" class=\"dataframe\">\n",
       "  <thead>\n",
       "    <tr style=\"text-align: right;\">\n",
       "      <th></th>\n",
       "      <th>fact</th>\n",
       "      <th>text</th>\n",
       "      <th>entity</th>\n",
       "    </tr>\n",
       "  </thead>\n",
       "  <tbody>\n",
       "    <tr>\n",
       "      <th>40351</th>\n",
       "      <td>&lt;a href=\"https://en.wikipedia.org/wiki/Moscow\"...</td>\n",
       "      <td>Moscow attacks Tver, which counter-attacks wit...</td>\n",
       "      <td>[Moscow, Tver, Lithuania, Blue_Horde]</td>\n",
       "    </tr>\n",
       "    <tr>\n",
       "      <th>40352</th>\n",
       "      <td>The &lt;a href=\"https://en.wikipedia.org/wiki/Bib...</td>\n",
       "      <td>The Bibliothèque nationale de France (National...</td>\n",
       "      <td>[Bibliothèque_nationale_de_France, Louvre_Pala...</td>\n",
       "    </tr>\n",
       "    <tr>\n",
       "      <th>40353</th>\n",
       "      <td>December - Financed by &lt;a href=\"https://en.wik...</td>\n",
       "      <td>December - Financed by Charles V of France, We...</td>\n",
       "      <td>[Charles_V_of_France, Owain_Lawgoch, Wales]</td>\n",
       "    </tr>\n",
       "    <tr>\n",
       "      <th>40354</th>\n",
       "      <td>&lt;a href=\"https://en.wikipedia.org/wiki/Tamerla...</td>\n",
       "      <td>Tamerlane names the city of Samarkand as the c...</td>\n",
       "      <td>[Tamerlane, Samarkand]</td>\n",
       "    </tr>\n",
       "    <tr>\n",
       "      <th>40355</th>\n",
       "      <td>The &lt;a href=\"https://en.wikipedia.org/wiki/Tha...</td>\n",
       "      <td>The Thai Kingdom of Ayutthaya conquers Cambodi...</td>\n",
       "      <td>[Thailand, Ayutthaya_Kingdom, Cambodia]</td>\n",
       "    </tr>\n",
       "  </tbody>\n",
       "</table>\n",
       "</div>"
      ],
      "text/plain": [
       "                                                    fact  \\\n",
       "40351  <a href=\"https://en.wikipedia.org/wiki/Moscow\"...   \n",
       "40352  The <a href=\"https://en.wikipedia.org/wiki/Bib...   \n",
       "40353  December - Financed by <a href=\"https://en.wik...   \n",
       "40354  <a href=\"https://en.wikipedia.org/wiki/Tamerla...   \n",
       "40355  The <a href=\"https://en.wikipedia.org/wiki/Tha...   \n",
       "\n",
       "                                                    text  \\\n",
       "40351  Moscow attacks Tver, which counter-attacks wit...   \n",
       "40352  The Bibliothèque nationale de France (National...   \n",
       "40353  December - Financed by Charles V of France, We...   \n",
       "40354  Tamerlane names the city of Samarkand as the c...   \n",
       "40355  The Thai Kingdom of Ayutthaya conquers Cambodi...   \n",
       "\n",
       "                                                  entity  \n",
       "40351              [Moscow, Tver, Lithuania, Blue_Horde]  \n",
       "40352  [Bibliothèque_nationale_de_France, Louvre_Pala...  \n",
       "40353        [Charles_V_of_France, Owain_Lawgoch, Wales]  \n",
       "40354                             [Tamerlane, Samarkand]  \n",
       "40355            [Thailand, Ayutthaya_Kingdom, Cambodia]  "
      ]
     },
     "execution_count": 62,
     "metadata": {},
     "output_type": "execute_result"
    }
   ],
   "source": [
    "df.tail()"
   ]
  },
  {
   "cell_type": "code",
   "execution_count": 63,
   "metadata": {},
   "outputs": [],
   "source": [
    "df.to_csv(\"text_and_entities.csv\", index=False)"
   ]
  },
  {
   "cell_type": "code",
   "execution_count": 69,
   "metadata": {},
   "outputs": [],
   "source": [
    "import json\n",
    "import requests"
   ]
  },
  {
   "cell_type": "code",
   "execution_count": 70,
   "metadata": {},
   "outputs": [],
   "source": [
    "def wat_entity_relatedness(ids: list):\n",
    "    # Main method, text annotation with WAT entity linking system\n",
    "    wat_url = 'https://wat.d4science.org/wat/relatedness/graph'\n",
    "    payload = [(\"gcube-token\", MY_GCUBE_TOKEN)]\n",
    "    for id in ids:\n",
    "        payload.append(('ids', id))\n",
    "    response = requests.get(wat_url, params=payload)\n",
    "    return response.json()"
   ]
  },
  {
   "cell_type": "code",
   "execution_count": 71,
   "metadata": {},
   "outputs": [
    {
     "data": {
      "text/plain": [
       "{'relation': 'lm',\n",
       " 'pairs': [{'src_title': {'wiki_title': 'Barack_Obama',\n",
       "    'wiki_id': 534366,\n",
       "    'ns': 0,\n",
       "    'type': 0},\n",
       "   'dst_title': {'wiki_title': 'Presidency_of_Barack_Obama',\n",
       "    'wiki_id': 20082093,\n",
       "    'ns': 0,\n",
       "    'type': 0},\n",
       "   'relatedness': 7.888609052210118e-31}]}"
      ]
     },
     "execution_count": 71,
     "metadata": {},
     "output_type": "execute_result"
    }
   ],
   "source": [
    "wat_entity_relatedness([534366, 20082093])"
   ]
  },
  {
   "cell_type": "code",
   "execution_count": 113,
   "metadata": {},
   "outputs": [],
   "source": [
    "def wat_wiki_id(wiki_title: str):\n",
    "    \"\"\"Give Wikipedia title returns its wiki_id\"\"\"\n",
    "    wat_url = 'https://wat.d4science.org/wat/title'\n",
    "    payload = [(\"gcube-token\", MY_GCUBE_TOKEN), \n",
    "               (\"title\", wiki_title)]\n",
    "    response = requests.get(wat_url, params=payload)\n",
    "    return response.json()[\"wiki_id\"]"
   ]
  },
  {
   "cell_type": "code",
   "execution_count": 76,
   "metadata": {},
   "outputs": [
    {
     "name": "stdout",
     "output_type": "stream",
     "text": [
      "{'wiki_title': 'Achilleus_(emperor)', 'wiki_id': 42658028, 'ns': 0, 'type': 1, 'redirect_id': 13526151}\n",
      "{'wiki_title': 'Alexandria', 'wiki_id': 3080, 'ns': 0, 'type': 0}\n",
      "{'wiki_title': 'Egypt_(Roman_province)', 'wiki_id': 496519, 'ns': 0, 'type': 0}\n",
      "{'wiki_title': 'rebellion', 'wiki_id': -1, 'ns': 0, 'type': 0}\n",
      "{'wiki_title': 'Diocletian', 'wiki_id': 8580, 'ns': 0, 'type': 0}\n"
     ]
    }
   ],
   "source": [
    "for wiki_title in df.iloc[69, -1]:\n",
    "    print(wat_wiki_id(wiki_title))"
   ]
  },
  {
   "cell_type": "code",
   "execution_count": 79,
   "metadata": {},
   "outputs": [
    {
     "name": "stdout",
     "output_type": "stream",
     "text": [
      "Roman Empire. <a href=\"https://en.wikipedia.org/wiki/Achilleus_(emperor)\">Achilleus</a>, Roman general, is proclaimed emperor in <a href=\"https://en.wikipedia.org/wiki/Alexandria\">Alexandria</a>. For two years he rules over <a href=\"https://en.wikipedia.org/wiki/Egypt_(Roman_province)\">Egypt</a>, but in the end the <a href=\"https://en.wikipedia.org/wiki/rebellion\">rebellion</a> is crushed by Emperor <a href=\"https://en.wikipedia.org/wiki/Diocletian\">Diocletian</a>.\n",
      "Roman Empire. Achilleus, Roman general, is proclaimed emperor in Alexandria. For two years he rules over Egypt, but in the end the rebellion is crushed by Emperor Diocletian.\n",
      "['Achilleus_(emperor)', 'Alexandria', 'Egypt_(Roman_province)', 'rebellion', 'Diocletian']\n"
     ]
    }
   ],
   "source": [
    "for i in df.iloc[69]:\n",
    "    print(i)"
   ]
  },
  {
   "cell_type": "code",
   "execution_count": 80,
   "metadata": {},
   "outputs": [],
   "source": [
    "class WATAnnotation:\n",
    "    # An entity annotated by WAT\n",
    "\n",
    "    def __init__(self, d):\n",
    "\n",
    "        # char offset (included)\n",
    "        self.start = d['start']\n",
    "        # char offset (not included)\n",
    "        self.end = d['end']\n",
    "\n",
    "        # annotation accuracy\n",
    "        self.rho = d['rho']\n",
    "        # spot-entity probability\n",
    "        self.prior_prob = d['explanation']['prior_explanation']['entity_mention_probability']\n",
    "\n",
    "        # annotated text\n",
    "        self.spot = d['spot']\n",
    "\n",
    "        # Wikpedia entity info\n",
    "        self.wiki_id = d['id']\n",
    "        self.wiki_title = d['title']\n",
    "\n",
    "\n",
    "    def json_dict(self):\n",
    "        # Simple dictionary representation\n",
    "        return {'wiki_title': self.wiki_title,\n",
    "                'wiki_id': self.wiki_id,\n",
    "                'start': self.start,\n",
    "                'end': self.end,\n",
    "                'rho': self.rho,\n",
    "                'prior_prob': self.prior_prob\n",
    "                }"
   ]
  },
  {
   "cell_type": "code",
   "execution_count": 88,
   "metadata": {},
   "outputs": [],
   "source": [
    "def wat_entity_linking(text):\n",
    "    # Main method, text annotation with WAT entity linking system\n",
    "    wat_url = 'https://wat.d4science.org/wat/tag/tag'\n",
    "    payload = [(\"gcube-token\", MY_GCUBE_TOKEN),\n",
    "               (\"text\", text),\n",
    "               (\"lang\", 'en'),\n",
    "               (\"tokenizer\", \"nlp4j\"),\n",
    "               ('debug', 9),\n",
    "               (\"method\",\n",
    "                \"spotter:includeUserHint=true:includeNamedEntity=true:includeNounPhrase=true,prior:k=50,filter-valid,centroid:rescore=true,topk:k=5,voting:relatedness=lm,ranker:model=0046.model,confidence:model=pruner-wiki.linear\")]\n",
    "\n",
    "    response = requests.get(wat_url, params=payload)\n",
    "    return response.json()[\"annotations\"]"
   ]
  },
  {
   "cell_type": "code",
   "execution_count": 92,
   "metadata": {},
   "outputs": [],
   "source": [
    "def wat_query_to_id(query: str):\n",
    "    response = wat_entity_linking(query)\n",
    "    ret = []\n",
    "    for res in response:\n",
    "        ret.append(res[\"id\"])\n",
    "    return ret"
   ]
  },
  {
   "cell_type": "code",
   "execution_count": 93,
   "metadata": {},
   "outputs": [
    {
     "data": {
      "text/plain": [
       "[40501, 1356238, 9316]"
      ]
     },
     "execution_count": 93,
     "metadata": {},
     "output_type": "execute_result"
    }
   ],
   "source": [
    "wat_query_to_id(\"Canute the Great codifies the laws of England\")"
   ]
  },
  {
   "cell_type": "code",
   "execution_count": 94,
   "metadata": {},
   "outputs": [],
   "source": [
    "import pickle"
   ]
  },
  {
   "cell_type": "code",
   "execution_count": 96,
   "metadata": {},
   "outputs": [],
   "source": [
    "with open(\"tfidf_vectorizer.pkl\", \"rb\") as f:\n",
    "    vectorizer = pickle.load(f)"
   ]
  },
  {
   "cell_type": "code",
   "execution_count": 97,
   "metadata": {},
   "outputs": [
    {
     "data": {
      "text/plain": [
       "sklearn.feature_extraction.text.TfidfVectorizer"
      ]
     },
     "execution_count": 97,
     "metadata": {},
     "output_type": "execute_result"
    }
   ],
   "source": [
    "type(vectorizer)"
   ]
  },
  {
   "cell_type": "code",
   "execution_count": 103,
   "metadata": {},
   "outputs": [],
   "source": [
    "with open(\"./tdidf_wm\", \"rb\") as f:\n",
    "    tfidf_wm = pickle.load(f)"
   ]
  },
  {
   "cell_type": "code",
   "execution_count": 104,
   "metadata": {},
   "outputs": [],
   "source": [
    "from sklearn.metrics.pairwise import cosine_similarity"
   ]
  },
  {
   "cell_type": "code",
   "execution_count": 119,
   "metadata": {},
   "outputs": [],
   "source": [
    "def get_doc_ind(query):\n",
    "    query_tfidf = vectorizer.transform([query])\n",
    "    similarity_arr = cosine_similarity(query_tfidf, tfidf_wm).flatten()\n",
    "    best_doc_index_arr = np.argpartition(similarity_arr, -5)[-5:]\n",
    "    return best_doc_index_arr"
   ]
  },
  {
   "cell_type": "code",
   "execution_count": 120,
   "metadata": {},
   "outputs": [],
   "source": [
    "def get_doc_entities(query):\n",
    "    doc_ind = get_doc_ind(query)\n",
    "    ret = []\n",
    "    for i in doc_ind:\n",
    "        ret.extend(df[\"entity\"][i])\n",
    "    return ret"
   ]
  },
  {
   "cell_type": "code",
   "execution_count": 121,
   "metadata": {},
   "outputs": [
    {
     "data": {
      "text/plain": [
       "['Soviet_Antarctic_Expedition',\n",
       " 'Pole_of_Inaccessibility',\n",
       " 'Antarctic_Treaty',\n",
       " 'London',\n",
       " 'Antarctic',\n",
       " 'Southern_Cross_Expedition',\n",
       " 'Antarctic_Circle',\n",
       " 'Commonwealth_Trans-Antarctic_Expedition',\n",
       " 'Vivian_Fuchs',\n",
       " 'Antarctic',\n",
       " 'snowcat',\n",
       " 'South_Pole']"
      ]
     },
     "execution_count": 121,
     "metadata": {},
     "output_type": "execute_result"
    }
   ],
   "source": [
    "get_doc_entities(\"Antarctic treaty\")"
   ]
  },
  {
   "cell_type": "code",
   "execution_count": 133,
   "metadata": {},
   "outputs": [],
   "source": [
    "def er(query):\n",
    "    doc_ent = get_doc_entities(query)\n",
    "    doc_wiki_id = []\n",
    "    for ent in doc_ent:\n",
    "        doc_wiki_id.append(wat_wiki_id(ent))\n",
    "    query_wiki_id = wat_query_to_id(query)\n",
    "    ret = {}\n",
    "    for ind, ent_id in enumerate(doc_wiki_id):\n",
    "        relatedness = wat_entity_relatedness(query_wiki_id, ent_id)\n",
    "        relatedness = np.average(list(relatedness.values()))\n",
    "        ret[doc_ent[ind]] = relatedness\n",
    "    return ret"
   ]
  },
  {
   "cell_type": "code",
   "execution_count": 134,
   "metadata": {},
   "outputs": [
    {
     "name": "stdout",
     "output_type": "stream",
     "text": [
      "https://wat.d4science.org/wat/relatedness/graph?gcube-token=6c3fba9c-36a5-4a20-90d7-ea284f06fe01-843339462&relatedness=barabasialbert&ids=4368628&ids=2926\n",
      "https://wat.d4science.org/wat/relatedness/graph?gcube-token=6c3fba9c-36a5-4a20-90d7-ea284f06fe01-843339462&relatedness=barabasialbert&ids=4522348&ids=2926\n",
      "https://wat.d4science.org/wat/relatedness/graph?gcube-token=6c3fba9c-36a5-4a20-90d7-ea284f06fe01-843339462&relatedness=barabasialbert&ids=167992&ids=2926\n",
      "https://wat.d4science.org/wat/relatedness/graph?gcube-token=6c3fba9c-36a5-4a20-90d7-ea284f06fe01-843339462&relatedness=barabasialbert&ids=17867&ids=2926\n",
      "https://wat.d4science.org/wat/relatedness/graph?gcube-token=6c3fba9c-36a5-4a20-90d7-ea284f06fe01-843339462&relatedness=barabasialbert&ids=2926&ids=2926\n"
     ]
    },
    {
     "name": "stderr",
     "output_type": "stream",
     "text": [
      "/Users/deebakkarthi/.local/src/ir/er/.venv/lib/python3.11/site-packages/numpy/lib/function_base.py:520: RuntimeWarning: Mean of empty slice.\n",
      "  avg = a.mean(axis, **keepdims_kw)\n",
      "/Users/deebakkarthi/.local/src/ir/er/.venv/lib/python3.11/site-packages/numpy/core/_methods.py:129: RuntimeWarning: invalid value encountered in scalar divide\n",
      "  ret = ret.dtype.type(ret / rcount)\n"
     ]
    },
    {
     "name": "stdout",
     "output_type": "stream",
     "text": [
      "https://wat.d4science.org/wat/relatedness/graph?gcube-token=6c3fba9c-36a5-4a20-90d7-ea284f06fe01-843339462&relatedness=barabasialbert&ids=18798090&ids=2926\n",
      "https://wat.d4science.org/wat/relatedness/graph?gcube-token=6c3fba9c-36a5-4a20-90d7-ea284f06fe01-843339462&relatedness=barabasialbert&ids=40036138&ids=2926\n",
      "https://wat.d4science.org/wat/relatedness/graph?gcube-token=6c3fba9c-36a5-4a20-90d7-ea284f06fe01-843339462&relatedness=barabasialbert&ids=1126339&ids=2926\n",
      "https://wat.d4science.org/wat/relatedness/graph?gcube-token=6c3fba9c-36a5-4a20-90d7-ea284f06fe01-843339462&relatedness=barabasialbert&ids=315860&ids=2926\n",
      "https://wat.d4science.org/wat/relatedness/graph?gcube-token=6c3fba9c-36a5-4a20-90d7-ea284f06fe01-843339462&relatedness=barabasialbert&ids=2926&ids=2926\n",
      "https://wat.d4science.org/wat/relatedness/graph?gcube-token=6c3fba9c-36a5-4a20-90d7-ea284f06fe01-843339462&relatedness=barabasialbert&ids=-1&ids=2926\n",
      "https://wat.d4science.org/wat/relatedness/graph?gcube-token=6c3fba9c-36a5-4a20-90d7-ea284f06fe01-843339462&relatedness=barabasialbert&ids=20611127&ids=2926\n"
     ]
    },
    {
     "data": {
      "text/plain": [
       "{'Soviet_Antarctic_Expedition': 0.682246208190918,\n",
       " 'Pole_of_Inaccessibility': 0.0,\n",
       " 'Antarctic_Treaty': 0.0,\n",
       " 'London': 0.0,\n",
       " 'Antarctic': nan,\n",
       " 'Southern_Cross_Expedition': 0.607271134853363,\n",
       " 'Antarctic_Circle': 0.7913094162940979,\n",
       " 'Commonwealth_Trans-Antarctic_Expedition': 0.5789082646369934,\n",
       " 'Vivian_Fuchs': 0.590214192867279,\n",
       " 'snowcat': 0.0,\n",
       " 'South_Pole': 0.600740909576416}"
      ]
     },
     "execution_count": 134,
     "metadata": {},
     "output_type": "execute_result"
    }
   ],
   "source": [
    "er(\"Antarctic treaty\")"
   ]
  },
  {
   "cell_type": "code",
   "execution_count": 135,
   "metadata": {},
   "outputs": [],
   "source": [
    "def wat_entity_relatedness(query: list, ent: int):\n",
    "    # Main method, text annotation with WAT entity linking system\n",
    "    wat_url = 'https://wat.d4science.org/wat/relatedness/graph'\n",
    "    payload = [(\"gcube-token\", MY_GCUBE_TOKEN),\n",
    "               (\"relatedness\", \"barabasialbert\"),\n",
    "               (\"ids\", ent)]\n",
    "    for id in query:\n",
    "        payload.append(('ids', id))\n",
    "    response = requests.get(wat_url, params=payload)\n",
    "    response = response.json()\n",
    "    ret = {}\n",
    "    for pair in response[\"pairs\"]:\n",
    "        if pair[\"src_title\"][\"wiki_id\"] == ent:\n",
    "            dst_id = pair[\"dst_title\"][\"wiki_id\"]\n",
    "        elif pair[\"dst_title\"][\"wiki_id\"] == ent:\n",
    "            dst_id = pair[\"src_title\"][\"wiki_id\"]\n",
    "        else:\n",
    "            continue\n",
    "        ret[str(dst_id)] = pair[\"relatedness\"]\n",
    "    return ret"
   ]
  },
  {
   "cell_type": "code",
   "execution_count": 132,
   "metadata": {},
   "outputs": [
    {
     "name": "stdout",
     "output_type": "stream",
     "text": [
      "https://wat.d4science.org/wat/relatedness/graph?gcube-token=6c3fba9c-36a5-4a20-90d7-ea284f06fe01-843339462&relatedness=barabasialbert&ids=18798090&ids=2926&ids=7033645&ids=1291\n"
     ]
    },
    {
     "data": {
      "text/plain": [
       "{'1291': 0.0, '2926': 0.607271134853363, '7033645': 0.0}"
      ]
     },
     "execution_count": 132,
     "metadata": {},
     "output_type": "execute_result"
    }
   ],
   "source": [
    "wat_entity_relatedness([2926, 7033645, 1291], 18798090)"
   ]
  },
  {
   "cell_type": "code",
   "execution_count": null,
   "metadata": {},
   "outputs": [],
   "source": []
  }
 ],
 "metadata": {
  "kernelspec": {
   "display_name": ".venv",
   "language": "python",
   "name": "python3"
  },
  "language_info": {
   "codemirror_mode": {
    "name": "ipython",
    "version": 3
   },
   "file_extension": ".py",
   "mimetype": "text/x-python",
   "name": "python",
   "nbconvert_exporter": "python",
   "pygments_lexer": "ipython3",
   "version": "3.11.6"
  }
 },
 "nbformat": 4,
 "nbformat_minor": 2
}
