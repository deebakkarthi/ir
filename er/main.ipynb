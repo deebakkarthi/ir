{
 "cells": [
  {
   "cell_type": "code",
   "execution_count": 1,
   "metadata": {},
   "outputs": [],
   "source": [
    "import numpy as np\n",
    "import pandas as pd"
   ]
  },
  {
   "cell_type": "code",
   "execution_count": 23,
   "metadata": {},
   "outputs": [],
   "source": [
    "df = pd.read_json(\"./ecir15.wiki-year-facts.json\")"
   ]
  },
  {
   "cell_type": "code",
   "execution_count": 24,
   "metadata": {},
   "outputs": [
    {
     "data": {
      "text/plain": [
       "(40356, 1)"
      ]
     },
     "execution_count": 24,
     "metadata": {},
     "output_type": "execute_result"
    }
   ],
   "source": [
    "df.shape"
   ]
  },
  {
   "cell_type": "code",
   "execution_count": 25,
   "metadata": {},
   "outputs": [
    {
     "name": "stdout",
     "output_type": "stream",
     "text": [
      "<class 'pandas.core.frame.DataFrame'>\n",
      "RangeIndex: 40356 entries, 0 to 40355\n",
      "Data columns (total 1 columns):\n",
      " #   Column  Non-Null Count  Dtype \n",
      "---  ------  --------------  ----- \n",
      " 0   data    40356 non-null  object\n",
      "dtypes: object(1)\n",
      "memory usage: 315.4+ KB\n"
     ]
    }
   ],
   "source": [
    "df.info()"
   ]
  },
  {
   "cell_type": "code",
   "execution_count": 26,
   "metadata": {},
   "outputs": [
    {
     "data": {
      "text/html": [
       "<div>\n",
       "<style scoped>\n",
       "    .dataframe tbody tr th:only-of-type {\n",
       "        vertical-align: middle;\n",
       "    }\n",
       "\n",
       "    .dataframe tbody tr th {\n",
       "        vertical-align: top;\n",
       "    }\n",
       "\n",
       "    .dataframe thead th {\n",
       "        text-align: right;\n",
       "    }\n",
       "</style>\n",
       "<table border=\"1\" class=\"dataframe\">\n",
       "  <thead>\n",
       "    <tr style=\"text-align: right;\">\n",
       "      <th></th>\n",
       "      <th>data</th>\n",
       "    </tr>\n",
       "  </thead>\n",
       "  <tbody>\n",
       "    <tr>\n",
       "      <th>0</th>\n",
       "      <td>{'fact': 'Roman Empire. &lt;a href=\"https://en.wi...</td>\n",
       "    </tr>\n",
       "    <tr>\n",
       "      <th>1</th>\n",
       "      <td>{'fact': 'Roman Empire. End of the war with &lt;a...</td>\n",
       "    </tr>\n",
       "    <tr>\n",
       "      <th>2</th>\n",
       "      <td>{'fact': 'Asia. &lt;a href=\"https://en.wikipedia....</td>\n",
       "    </tr>\n",
       "    <tr>\n",
       "      <th>3</th>\n",
       "      <td>{'fact': 'Religion. &lt;a href=\"https://en.wikipe...</td>\n",
       "    </tr>\n",
       "    <tr>\n",
       "      <th>4</th>\n",
       "      <td>{'fact': 'Byzantine Empire. Emperor &lt;a href=\"h...</td>\n",
       "    </tr>\n",
       "  </tbody>\n",
       "</table>\n",
       "</div>"
      ],
      "text/plain": [
       "                                                data\n",
       "0  {'fact': 'Roman Empire. <a href=\"https://en.wi...\n",
       "1  {'fact': 'Roman Empire. End of the war with <a...\n",
       "2  {'fact': 'Asia. <a href=\"https://en.wikipedia....\n",
       "3  {'fact': 'Religion. <a href=\"https://en.wikipe...\n",
       "4  {'fact': 'Byzantine Empire. Emperor <a href=\"h..."
      ]
     },
     "execution_count": 26,
     "metadata": {},
     "output_type": "execute_result"
    }
   ],
   "source": [
    "df.head()"
   ]
  },
  {
   "cell_type": "code",
   "execution_count": 40,
   "metadata": {},
   "outputs": [],
   "source": [
    "df = df.values.flatten()"
   ]
  },
  {
   "cell_type": "code",
   "execution_count": 41,
   "metadata": {},
   "outputs": [
    {
     "data": {
      "text/plain": [
       "array([{'fact': 'Roman Empire. <a href=\"https://en.wikipedia.org/wiki/Dacia\">Dacia</a> is invaded by barbarians.', 'year': '166'},\n",
       "       {'fact': 'Roman Empire. End of the war with <a href=\"https://en.wikipedia.org/wiki/Parthia\">Parthia</a>:  The Parthians leave <a href=\"https://en.wikipedia.org/wiki/Armenia\">Armenia</a> and eastern <a href=\"https://en.wikipedia.org/wiki/Mesopotamia\">Mesopotamia</a>, which both become Roman <a href=\"https://en.wikipedia.org/wiki/protectorate\">protectorate</a>s.', 'year': '166'},\n",
       "       {'fact': 'Asia. <a href=\"https://en.wikipedia.org/wiki/King_Chogo_of_Baekje\">King Chogo of Baekje</a> succeeds to the throne of <a href=\"https://en.wikipedia.org/wiki/Baekje\">Baekje</a> in the <a href=\"https://en.wikipedia.org/wiki/Korean_peninsula\">Korean peninsula</a>.', 'year': '166'},\n",
       "       ...,\n",
       "       {'fact': 'December - Financed by <a href=\"https://en.wikipedia.org/wiki/Charles_V_of_France\">Charles V of France</a>, Welshman <a href=\"https://en.wikipedia.org/wiki/Owain_Lawgoch\">Owain Lawgoch</a> launches an invasion fleet against the English in an attempt to claim the throne of <a href=\"https://en.wikipedia.org/wiki/Wales\">Wales</a>. A storm causes Owain to abandon the invasion.', 'year': '1369'},\n",
       "       {'fact': '<a href=\"https://en.wikipedia.org/wiki/Tamerlane\">Tamerlane</a> names the city of <a href=\"https://en.wikipedia.org/wiki/Samarkand\">Samarkand</a> as the capital of his empire.', 'year': '1369'},\n",
       "       {'fact': 'The <a href=\"https://en.wikipedia.org/wiki/Thailand\">Thai</a> Kingdom of <a href=\"https://en.wikipedia.org/wiki/Ayutthaya_Kingdom\">Ayutthaya</a> conquers <a href=\"https://en.wikipedia.org/wiki/Cambodia\">Cambodia</a> for a second time.', 'year': '1369'}],\n",
       "      dtype=object)"
      ]
     },
     "execution_count": 41,
     "metadata": {},
     "output_type": "execute_result"
    }
   ],
   "source": [
    "df"
   ]
  },
  {
   "cell_type": "code",
   "execution_count": 42,
   "metadata": {},
   "outputs": [
    {
     "data": {
      "text/plain": [
       "40356"
      ]
     },
     "execution_count": 42,
     "metadata": {},
     "output_type": "execute_result"
    }
   ],
   "source": [
    "len(df)"
   ]
  },
  {
   "cell_type": "code",
   "execution_count": 43,
   "metadata": {},
   "outputs": [
    {
     "data": {
      "text/plain": [
       "numpy.ndarray"
      ]
     },
     "execution_count": 43,
     "metadata": {},
     "output_type": "execute_result"
    }
   ],
   "source": [
    "type(df)"
   ]
  },
  {
   "cell_type": "code",
   "execution_count": 45,
   "metadata": {},
   "outputs": [],
   "source": [
    "df = pd.DataFrame(df.tolist())"
   ]
  },
  {
   "cell_type": "code",
   "execution_count": 46,
   "metadata": {},
   "outputs": [
    {
     "data": {
      "text/html": [
       "<div>\n",
       "<style scoped>\n",
       "    .dataframe tbody tr th:only-of-type {\n",
       "        vertical-align: middle;\n",
       "    }\n",
       "\n",
       "    .dataframe tbody tr th {\n",
       "        vertical-align: top;\n",
       "    }\n",
       "\n",
       "    .dataframe thead th {\n",
       "        text-align: right;\n",
       "    }\n",
       "</style>\n",
       "<table border=\"1\" class=\"dataframe\">\n",
       "  <thead>\n",
       "    <tr style=\"text-align: right;\">\n",
       "      <th></th>\n",
       "      <th>fact</th>\n",
       "      <th>year</th>\n",
       "    </tr>\n",
       "  </thead>\n",
       "  <tbody>\n",
       "    <tr>\n",
       "      <th>0</th>\n",
       "      <td>Roman Empire. &lt;a href=\"https://en.wikipedia.or...</td>\n",
       "      <td>166</td>\n",
       "    </tr>\n",
       "    <tr>\n",
       "      <th>1</th>\n",
       "      <td>Roman Empire. End of the war with &lt;a href=\"htt...</td>\n",
       "      <td>166</td>\n",
       "    </tr>\n",
       "    <tr>\n",
       "      <th>2</th>\n",
       "      <td>Asia. &lt;a href=\"https://en.wikipedia.org/wiki/K...</td>\n",
       "      <td>166</td>\n",
       "    </tr>\n",
       "    <tr>\n",
       "      <th>3</th>\n",
       "      <td>Religion. &lt;a href=\"https://en.wikipedia.org/wi...</td>\n",
       "      <td>166</td>\n",
       "    </tr>\n",
       "    <tr>\n",
       "      <th>4</th>\n",
       "      <td>Byzantine Empire. Emperor &lt;a href=\"https://en....</td>\n",
       "      <td>592</td>\n",
       "    </tr>\n",
       "  </tbody>\n",
       "</table>\n",
       "</div>"
      ],
      "text/plain": [
       "                                                fact year\n",
       "0  Roman Empire. <a href=\"https://en.wikipedia.or...  166\n",
       "1  Roman Empire. End of the war with <a href=\"htt...  166\n",
       "2  Asia. <a href=\"https://en.wikipedia.org/wiki/K...  166\n",
       "3  Religion. <a href=\"https://en.wikipedia.org/wi...  166\n",
       "4  Byzantine Empire. Emperor <a href=\"https://en....  592"
      ]
     },
     "execution_count": 46,
     "metadata": {},
     "output_type": "execute_result"
    }
   ],
   "source": [
    "df.head()"
   ]
  },
  {
   "cell_type": "code",
   "execution_count": 47,
   "metadata": {},
   "outputs": [],
   "source": [
    "df.to_csv(\"dataset.csv\")"
   ]
  },
  {
   "cell_type": "code",
   "execution_count": 49,
   "metadata": {},
   "outputs": [
    {
     "data": {
      "text/html": [
       "<div>\n",
       "<style scoped>\n",
       "    .dataframe tbody tr th:only-of-type {\n",
       "        vertical-align: middle;\n",
       "    }\n",
       "\n",
       "    .dataframe tbody tr th {\n",
       "        vertical-align: top;\n",
       "    }\n",
       "\n",
       "    .dataframe thead th {\n",
       "        text-align: right;\n",
       "    }\n",
       "</style>\n",
       "<table border=\"1\" class=\"dataframe\">\n",
       "  <thead>\n",
       "    <tr style=\"text-align: right;\">\n",
       "      <th></th>\n",
       "      <th>fact</th>\n",
       "      <th>year</th>\n",
       "    </tr>\n",
       "  </thead>\n",
       "  <tbody>\n",
       "    <tr>\n",
       "      <th>0</th>\n",
       "      <td>Roman Empire. &lt;a href=\"https://en.wikipedia.or...</td>\n",
       "      <td>166</td>\n",
       "    </tr>\n",
       "    <tr>\n",
       "      <th>1</th>\n",
       "      <td>Roman Empire. End of the war with &lt;a href=\"htt...</td>\n",
       "      <td>166</td>\n",
       "    </tr>\n",
       "    <tr>\n",
       "      <th>2</th>\n",
       "      <td>Asia. &lt;a href=\"https://en.wikipedia.org/wiki/K...</td>\n",
       "      <td>166</td>\n",
       "    </tr>\n",
       "    <tr>\n",
       "      <th>3</th>\n",
       "      <td>Religion. &lt;a href=\"https://en.wikipedia.org/wi...</td>\n",
       "      <td>166</td>\n",
       "    </tr>\n",
       "    <tr>\n",
       "      <th>4</th>\n",
       "      <td>Byzantine Empire. Emperor &lt;a href=\"https://en....</td>\n",
       "      <td>592</td>\n",
       "    </tr>\n",
       "  </tbody>\n",
       "</table>\n",
       "</div>"
      ],
      "text/plain": [
       "                                                fact year\n",
       "0  Roman Empire. <a href=\"https://en.wikipedia.or...  166\n",
       "1  Roman Empire. End of the war with <a href=\"htt...  166\n",
       "2  Asia. <a href=\"https://en.wikipedia.org/wiki/K...  166\n",
       "3  Religion. <a href=\"https://en.wikipedia.org/wi...  166\n",
       "4  Byzantine Empire. Emperor <a href=\"https://en....  592"
      ]
     },
     "execution_count": 49,
     "metadata": {},
     "output_type": "execute_result"
    }
   ],
   "source": [
    "df.head()"
   ]
  },
  {
   "cell_type": "code",
   "execution_count": 51,
   "metadata": {},
   "outputs": [],
   "source": [
    "df.drop(columns=[\"year\"], inplace=True)"
   ]
  },
  {
   "cell_type": "code",
   "execution_count": 52,
   "metadata": {},
   "outputs": [
    {
     "data": {
      "text/html": [
       "<div>\n",
       "<style scoped>\n",
       "    .dataframe tbody tr th:only-of-type {\n",
       "        vertical-align: middle;\n",
       "    }\n",
       "\n",
       "    .dataframe tbody tr th {\n",
       "        vertical-align: top;\n",
       "    }\n",
       "\n",
       "    .dataframe thead th {\n",
       "        text-align: right;\n",
       "    }\n",
       "</style>\n",
       "<table border=\"1\" class=\"dataframe\">\n",
       "  <thead>\n",
       "    <tr style=\"text-align: right;\">\n",
       "      <th></th>\n",
       "      <th>fact</th>\n",
       "    </tr>\n",
       "  </thead>\n",
       "  <tbody>\n",
       "    <tr>\n",
       "      <th>0</th>\n",
       "      <td>Roman Empire. &lt;a href=\"https://en.wikipedia.or...</td>\n",
       "    </tr>\n",
       "    <tr>\n",
       "      <th>1</th>\n",
       "      <td>Roman Empire. End of the war with &lt;a href=\"htt...</td>\n",
       "    </tr>\n",
       "    <tr>\n",
       "      <th>2</th>\n",
       "      <td>Asia. &lt;a href=\"https://en.wikipedia.org/wiki/K...</td>\n",
       "    </tr>\n",
       "    <tr>\n",
       "      <th>3</th>\n",
       "      <td>Religion. &lt;a href=\"https://en.wikipedia.org/wi...</td>\n",
       "    </tr>\n",
       "    <tr>\n",
       "      <th>4</th>\n",
       "      <td>Byzantine Empire. Emperor &lt;a href=\"https://en....</td>\n",
       "    </tr>\n",
       "  </tbody>\n",
       "</table>\n",
       "</div>"
      ],
      "text/plain": [
       "                                                fact\n",
       "0  Roman Empire. <a href=\"https://en.wikipedia.or...\n",
       "1  Roman Empire. End of the war with <a href=\"htt...\n",
       "2  Asia. <a href=\"https://en.wikipedia.org/wiki/K...\n",
       "3  Religion. <a href=\"https://en.wikipedia.org/wi...\n",
       "4  Byzantine Empire. Emperor <a href=\"https://en...."
      ]
     },
     "execution_count": 52,
     "metadata": {},
     "output_type": "execute_result"
    }
   ],
   "source": [
    "df.head()"
   ]
  },
  {
   "cell_type": "code",
   "execution_count": null,
   "metadata": {},
   "outputs": [],
   "source": []
  }
 ],
 "metadata": {
  "kernelspec": {
   "display_name": ".venv",
   "language": "python",
   "name": "python3"
  },
  "language_info": {
   "codemirror_mode": {
    "name": "ipython",
    "version": 3
   },
   "file_extension": ".py",
   "mimetype": "text/x-python",
   "name": "python",
   "nbconvert_exporter": "python",
   "pygments_lexer": "ipython3",
   "version": "3.11.6"
  }
 },
 "nbformat": 4,
 "nbformat_minor": 2
}
